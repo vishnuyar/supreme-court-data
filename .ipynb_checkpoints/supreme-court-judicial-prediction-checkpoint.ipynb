{
 "cells": [
  {
   "cell_type": "code",
   "execution_count": 1,
   "metadata": {},
   "outputs": [],
   "source": [
    "import pandas as pd\n",
    "import numpy as np\n",
    "import seaborn as sns\n",
    "import matplotlib.pyplot as plt\n",
    "import plotly.express as px"
   ]
  },
  {
   "cell_type": "code",
   "execution_count": 2,
   "metadata": {},
   "outputs": [
    {
     "data": {
      "text/plain": [
       "(8893, 53)"
      ]
     },
     "execution_count": 2,
     "metadata": {},
     "output_type": "execute_result"
    }
   ],
   "source": [
    "#Loading the supreme court database\n",
    "data = pd.read_csv('data/SCDB_2018_02_caseCentered_Citation.csv',encoding='ISO 8859-1')\n",
    "data.shape"
   ]
  },
  {
   "cell_type": "code",
   "execution_count": 3,
   "metadata": {},
   "outputs": [],
   "source": [
    "#Separating the output variables based on data from the codebook\n",
    "outcome_variables = ['decisionType','declarationUncon','caseDisposition','caseDispositionUnusual','partyWinning','precedentAlteration']"
   ]
  },
  {
   "cell_type": "code",
   "execution_count": 4,
   "metadata": {},
   "outputs": [],
   "source": [
    "#Conveting date columns to date format\n",
    "date_columns = ['dateArgument','dateRearg','dateDecision']\n",
    "for col in date_columns:\n",
    "    data[col]=pd.to_datetime(data[col],errors='coerce')"
   ]
  },
  {
   "cell_type": "code",
   "execution_count": 5,
   "metadata": {},
   "outputs": [],
   "source": [
    "#identification variables \n",
    "identity_variables = ['caseId', 'docketId', 'caseIssuesId', 'voteId', 'usCite', \n",
    "                            'sctCite', 'ledCite', 'lexisCite', 'docket','caseName']"
   ]
  },
  {
   "cell_type": "code",
   "execution_count": 6,
   "metadata": {},
   "outputs": [],
   "source": [
    "time_variables = ['dateArgument','dateRearg','dateDecision','naturalCourt','term','chief']"
   ]
  },
  {
   "cell_type": "code",
   "execution_count": null,
   "metadata": {},
   "outputs": [],
   "source": [
    "data.drop(columns=(outcome_variables+identity_variables+time_variables)).columns"
   ]
  },
  {
   "cell_type": "code",
   "execution_count": 7,
   "metadata": {},
   "outputs": [],
   "source": [
    "background_variables=['petitioner', 'petitionerState', 'respondent', 'respondentState','jurisdiction', 'adminAction', 'adminActionState', 'threeJudgeFdc',\n",
    "       'caseOrigin', 'caseOriginState', 'caseSource', 'caseSourceState',\n",
    "       'lcDisagreement', 'certReason', 'lcDisposition',\n",
    "       'lcDispositionDirection','issueArea']"
   ]
  },
  {
   "cell_type": "code",
   "execution_count": 8,
   "metadata": {},
   "outputs": [],
   "source": [
    "from sklearn.metrics import roc_auc_score,classification_report,accuracy_score\n",
    "from sklearn.ensemble import RandomForestClassifier \n",
    "from sklearn.model_selection import train_test_split"
   ]
  },
  {
   "cell_type": "code",
   "execution_count": 14,
   "metadata": {},
   "outputs": [
    {
     "data": {
      "text/plain": [
       "1.0    0.639959\n",
       "0.0    0.360041\n",
       "Name: partyWinning, dtype: float64"
      ]
     },
     "execution_count": 14,
     "metadata": {},
     "output_type": "execute_result"
    }
   ],
   "source": [
    "data['partyWinning'].value_counts(dropna=False,normalize=True)"
   ]
  },
  {
   "cell_type": "code",
   "execution_count": 13,
   "metadata": {},
   "outputs": [
    {
     "data": {
      "text/plain": [
       "1.0    5679\n",
       "0.0    3195\n",
       "Name: partyWinning, dtype: int64"
      ]
     },
     "execution_count": 13,
     "metadata": {},
     "output_type": "execute_result"
    }
   ],
   "source": [
    "data['partyWinning'].value_counts(dropna=False)"
   ]
  },
  {
   "cell_type": "code",
   "execution_count": 12,
   "metadata": {},
   "outputs": [
    {
     "data": {
      "text/plain": [
       "(8874, 53)"
      ]
     },
     "execution_count": 12,
     "metadata": {},
     "output_type": "execute_result"
    }
   ],
   "source": [
    "#Removing unspecified  and decisions with null valuesfrom the database\n",
    "data = data[data['partyWinning']<2]\n",
    "data.shape\n",
    "#19 rows have been removed"
   ]
  },
  {
   "cell_type": "code",
   "execution_count": 15,
   "metadata": {},
   "outputs": [
    {
     "data": {
      "text/plain": [
       "1.0    0.639959\n",
       "0.0    0.360041\n",
       "Name: partyWinning, dtype: float64"
      ]
     },
     "execution_count": 15,
     "metadata": {},
     "output_type": "execute_result"
    }
   ],
   "source": [
    "#majority class base prediction is\n",
    "data['partyWinning'].value_counts(normalize=True)\n",
    "#64% is base line prediction"
   ]
  },
  {
   "cell_type": "code",
   "execution_count": 16,
   "metadata": {},
   "outputs": [
    {
     "data": {
      "text/plain": [
       "0.5"
      ]
     },
     "execution_count": 16,
     "metadata": {},
     "output_type": "execute_result"
    }
   ],
   "source": [
    "#Getting the ROC value for baseline prediction\n",
    "y_pred = np.ones(len(data))\n",
    "y_true = data['partyWinning'].values\n",
    "roc_auc_score(y_true,y_pred)"
   ]
  },
  {
   "cell_type": "code",
   "execution_count": 17,
   "metadata": {},
   "outputs": [],
   "source": [
    "new_features = ['case_argued','case_reargued']\n",
    "data['case_argued']=data['dateArgument'].isnull().astype(int)\n",
    "data['case_reargued']=data['dateRearg'].isnull().astype(int)"
   ]
  },
  {
   "cell_type": "code",
   "execution_count": 18,
   "metadata": {},
   "outputs": [],
   "source": [
    "#Setting a basic model to fit the data\n",
    "target = 'partyWinning'\n",
    "features = background_variables\n",
    "X = data[features+new_features]\n",
    "y = data[target]"
   ]
  },
  {
   "cell_type": "code",
   "execution_count": 19,
   "metadata": {},
   "outputs": [],
   "source": [
    "X_trainval, X_test, y_trainval, y_test = train_test_split(\n",
    "    X, y, test_size=0.2, stratify=y, random_state=42)\n",
    "\n",
    "X_train, X_val, y_train, y_val = train_test_split(\n",
    "    X_trainval, y_trainval, test_size=0.2, \n",
    "    stratify=y_trainval, random_state=42)"
   ]
  },
  {
   "cell_type": "code",
   "execution_count": 26,
   "metadata": {},
   "outputs": [],
   "source": [
    "rfc = RandomForestClassifier(n_estimators=1000,random_state=31,min_samples_split=2)"
   ]
  },
  {
   "cell_type": "code",
   "execution_count": 27,
   "metadata": {},
   "outputs": [],
   "source": [
    "X_train = X_train.fillna(-1)\n",
    "X_test = X_test.fillna(-1)\n",
    "X_val = X_val.fillna(-1)"
   ]
  },
  {
   "cell_type": "code",
   "execution_count": 28,
   "metadata": {},
   "outputs": [
    {
     "name": "stdout",
     "output_type": "stream",
     "text": [
      "ROC score for Val is: 0.6522640522369263\n",
      "ROC score for Test is: 0.6304724867200071\n",
      "Accuracy score for Val is: 0.6450704225352113\n",
      "Accuracy score for Test is: 0.6332394366197183\n"
     ]
    }
   ],
   "source": [
    "rfc.fit(X_train,y_train)\n",
    "print(\"ROC score for Val is:\",roc_auc_score(y_val,rfc.predict_proba(X_val)[:,1]))\n",
    "print(\"ROC score for Test is:\",roc_auc_score(y_test,rfc.predict_proba(X_test)[:,1]))\n",
    "print(\"Accuracy score for Val is:\",accuracy_score(y_val,rfc.predict(X_val)))\n",
    "print(\"Accuracy score for Test is:\",accuracy_score(y_test,rfc.predict(X_test)))"
   ]
  },
  {
   "cell_type": "code",
   "execution_count": 29,
   "metadata": {},
   "outputs": [
    {
     "data": {
      "text/plain": [
       "<matplotlib.axes._subplots.AxesSubplot at 0x7fd9a500e240>"
      ]
     },
     "execution_count": 29,
     "metadata": {},
     "output_type": "execute_result"
    },
    {
     "data": {
      "image/png": "[encoded data removed]",
      "text/plain": [
       "<Figure size 432x288 with 1 Axes>"
      ]
     },
     "metadata": {
      "needs_background": "light"
     },
     "output_type": "display_data"
    }
   ],
   "source": [
    "#Feature Importances of the model are\n",
    "pd.Series(dict(zip(features+new_features,rfc.feature_importances_))).plot(kind='bar')"
   ]
  },
  {
   "cell_type": "code",
   "execution_count": 30,
   "metadata": {},
   "outputs": [
    {
     "name": "stdout",
     "output_type": "stream",
     "text": [
      "              precision    recall  f1-score   support\n",
      "\n",
      "         0.0       0.51      0.33      0.40       511\n",
      "         1.0       0.69      0.82      0.75       909\n",
      "\n",
      "    accuracy                           0.65      1420\n",
      "   macro avg       0.60      0.58      0.58      1420\n",
      "weighted avg       0.62      0.65      0.62      1420\n",
      "\n"
     ]
    }
   ],
   "source": [
    "print(classification_report(y_val,rfc.predict(X_val)))"
   ]
  },
  {
   "cell_type": "code",
   "execution_count": null,
   "metadata": {},
   "outputs": [],
   "source": []
  }
 ],
 "metadata": {
  "kernelspec": {
   "display_name": "Python 3",
   "language": "python",
   "name": "python3"
  },
  "language_info": {
   "codemirror_mode": {
    "name": "ipython",
    "version": 3
   },
   "file_extension": ".py",
   "mimetype": "text/x-python",
   "name": "python",
   "nbconvert_exporter": "python",
   "pygments_lexer": "ipython3",
   "version": "3.7.3"
  }
 },
 "nbformat": 4,
 "nbformat_minor": 2
}
